{
 "cells": [
  {
   "cell_type": "code",
   "execution_count": 1,
   "metadata": {},
   "outputs": [],
   "source": [
    "import numpy as np\n",
    "# numpy는 수치계산, 벡터 및 행렬계산에 유용하게 사용된다. 약어로 np라고 지칭.\n",
    "import matplotlib.pyplot as plt\n",
    "# Matplotlib는 데이터를 차트나 플롯(plot)으로 시각화하는 패키지이다. Matplotlib의 주요 모듈인 pyplot. 약어로 plt라고 지칭.\n",
    "import pandas as pd\n",
    "# pandas는 csv, 텍스트, Excel,SQL, HTML, JSON등 다양한 데이터 파일을 읽을 수 있다. 약어로 pd라고 지칭."
   ]
  },
  {
   "cell_type": "code",
   "execution_count": 118,
   "metadata": {},
   "outputs": [],
   "source": [
    "data = pd.read_csv(\"Uni_linear.txt\", header=None)\n",
    "# header가 없고, Uni_linear.txt를 불러온 것을 data에 저장.\n",
    "# 텍스트 파일은 read_csv 함수를 이용해서 불러올 수 있다. header(헤더)가 없는 경우 header=None 사용(기본 구분자는 쉼표)."
   ]
  },
  {
   "cell_type": "code",
   "execution_count": 3,
   "metadata": {},
   "outputs": [
    {
     "data": {
      "text/html": [
       "<div>\n",
       "<style scoped>\n",
       "    .dataframe tbody tr th:only-of-type {\n",
       "        vertical-align: middle;\n",
       "    }\n",
       "\n",
       "    .dataframe tbody tr th {\n",
       "        vertical-align: top;\n",
       "    }\n",
       "\n",
       "    .dataframe thead th {\n",
       "        text-align: right;\n",
       "    }\n",
       "</style>\n",
       "<table border=\"1\" class=\"dataframe\">\n",
       "  <thead>\n",
       "    <tr style=\"text-align: right;\">\n",
       "      <th></th>\n",
       "      <th>0</th>\n",
       "      <th>1</th>\n",
       "    </tr>\n",
       "  </thead>\n",
       "  <tbody>\n",
       "    <tr>\n",
       "      <th>0</th>\n",
       "      <td>6.1101</td>\n",
       "      <td>17.5920</td>\n",
       "    </tr>\n",
       "    <tr>\n",
       "      <th>1</th>\n",
       "      <td>5.5277</td>\n",
       "      <td>9.1302</td>\n",
       "    </tr>\n",
       "    <tr>\n",
       "      <th>2</th>\n",
       "      <td>8.5186</td>\n",
       "      <td>13.6620</td>\n",
       "    </tr>\n",
       "    <tr>\n",
       "      <th>3</th>\n",
       "      <td>7.0032</td>\n",
       "      <td>11.8540</td>\n",
       "    </tr>\n",
       "    <tr>\n",
       "      <th>4</th>\n",
       "      <td>5.8598</td>\n",
       "      <td>6.8233</td>\n",
       "    </tr>\n",
       "  </tbody>\n",
       "</table>\n",
       "</div>"
      ],
      "text/plain": [
       "        0        1\n",
       "0  6.1101  17.5920\n",
       "1  5.5277   9.1302\n",
       "2  8.5186  13.6620\n",
       "3  7.0032  11.8540\n",
       "4  5.8598   6.8233"
      ]
     },
     "execution_count": 3,
     "metadata": {},
     "output_type": "execute_result"
    }
   ],
   "source": [
    "data.head()\n",
    "# Uni_linear.txt 파일의 앞부분(기본 5줄) 데이터를 보여준다."
   ]
  },
  {
   "cell_type": "code",
   "execution_count": 4,
   "metadata": {},
   "outputs": [
    {
     "data": {
      "text/html": [
       "<div>\n",
       "<style scoped>\n",
       "    .dataframe tbody tr th:only-of-type {\n",
       "        vertical-align: middle;\n",
       "    }\n",
       "\n",
       "    .dataframe tbody tr th {\n",
       "        vertical-align: top;\n",
       "    }\n",
       "\n",
       "    .dataframe thead th {\n",
       "        text-align: right;\n",
       "    }\n",
       "</style>\n",
       "<table border=\"1\" class=\"dataframe\">\n",
       "  <thead>\n",
       "    <tr style=\"text-align: right;\">\n",
       "      <th></th>\n",
       "      <th>0</th>\n",
       "      <th>1</th>\n",
       "    </tr>\n",
       "  </thead>\n",
       "  <tbody>\n",
       "    <tr>\n",
       "      <th>count</th>\n",
       "      <td>97.000000</td>\n",
       "      <td>97.000000</td>\n",
       "    </tr>\n",
       "    <tr>\n",
       "      <th>mean</th>\n",
       "      <td>8.159800</td>\n",
       "      <td>5.839135</td>\n",
       "    </tr>\n",
       "    <tr>\n",
       "      <th>std</th>\n",
       "      <td>3.869884</td>\n",
       "      <td>5.510262</td>\n",
       "    </tr>\n",
       "    <tr>\n",
       "      <th>min</th>\n",
       "      <td>5.026900</td>\n",
       "      <td>-2.680700</td>\n",
       "    </tr>\n",
       "    <tr>\n",
       "      <th>25%</th>\n",
       "      <td>5.707700</td>\n",
       "      <td>1.986900</td>\n",
       "    </tr>\n",
       "    <tr>\n",
       "      <th>50%</th>\n",
       "      <td>6.589400</td>\n",
       "      <td>4.562300</td>\n",
       "    </tr>\n",
       "    <tr>\n",
       "      <th>75%</th>\n",
       "      <td>8.578100</td>\n",
       "      <td>7.046700</td>\n",
       "    </tr>\n",
       "    <tr>\n",
       "      <th>max</th>\n",
       "      <td>22.203000</td>\n",
       "      <td>24.147000</td>\n",
       "    </tr>\n",
       "  </tbody>\n",
       "</table>\n",
       "</div>"
      ],
      "text/plain": [
       "               0          1\n",
       "count  97.000000  97.000000\n",
       "mean    8.159800   5.839135\n",
       "std     3.869884   5.510262\n",
       "min     5.026900  -2.680700\n",
       "25%     5.707700   1.986900\n",
       "50%     6.589400   4.562300\n",
       "75%     8.578100   7.046700\n",
       "max    22.203000  24.147000"
      ]
     },
     "execution_count": 4,
     "metadata": {},
     "output_type": "execute_result"
    }
   ],
   "source": [
    "data.describe()\n",
    "# Uni_linear.txt 파일의 데이터의 컬럼별 요약 통계량을 보여준다."
   ]
  },
  {
   "cell_type": "code",
   "execution_count": 5,
   "metadata": {},
   "outputs": [
    {
     "data": {
      "text/plain": [
       "Text(0.5, 1.0, 'Profit Prediction')"
      ]
     },
     "execution_count": 5,
     "metadata": {},
     "output_type": "execute_result"
    },
    {
     "data": {
      "image/png": "[encoded data removed]",
      "text/plain": [
       "<Figure size 432x288 with 1 Axes>"
      ]
     },
     "metadata": {
      "needs_background": "light"
     },
     "output_type": "display_data"
    }
   ],
   "source": [
    "plt.scatter(data[0], data[1])\n",
    "# 산점도를 그릴때 scatter함수를 사용. scatter함수에 두개의 데이터를 넘겨주면 각각 x축과 y축의 데이터로 인식함.\n",
    "# x축의 데이터 = data[0], y축의 데이터 = data[1](data[0]와 data[1]은 Uni_linear.txt파일의 각각 첫번째 열데이터들(97개)과 두번째 열데이터들(97개)에 해당됨)\n",
    "plt.xticks(np.arange(5, 30, step=5))\n",
    "# x축에 눈금을 표시하는데, 5부터 30까지 5간격으로 표시한다.(30은 제외)\n",
    "plt.yticks(np.arange(-5, 30, step=5))\n",
    "# y축에 눈금을 표시하는데, -5부터 30까지 5간격으로 표시한다.(30은 제외)\n",
    "plt.xlabel(\"Population of City (10,000s)\")\n",
    "# x축의 이름을 지정한다.\n",
    "plt.ylabel(\"Profit ($10,000)\")\n",
    "# y축의 이름을 지정한다.\n",
    "plt.title(\"Profit Prediction\")\n",
    "# 제목을 지정한다."
   ]
  },
  {
   "cell_type": "code",
   "execution_count": 6,
   "metadata": {},
   "outputs": [],
   "source": [
    "def computeCost(X, y, theta):\n",
    "# computeCost라는 함수를 정의한다.(매개변수로 X, y, theta를 받음)\n",
    "    m=len(y)\n",
    "#   y의 길이를 계산하여 m에 저장한다.\n",
    "    predictions=X.dot(theta)\n",
    "#   매개변수로 받은 X와 theta간의 내적의 결과를 predictions에 저장.\n",
    "    square_err=(predictions - y)**2\n",
    "#   predictions과 y의 차를 제곱 후 square_err에 저장.\n",
    "    return 1/(2*m) * np.sum(square_err)\n",
    "#   square_err의 모든 요소들의 합에 1/(2*m)을 곱해 반환한다."
   ]
  },
  {
   "cell_type": "code",
   "execution_count": 45,
   "metadata": {},
   "outputs": [
    {
     "data": {
      "text/plain": [
       "32.072733877455676"
      ]
     },
     "execution_count": 45,
     "metadata": {},
     "output_type": "execute_result"
    }
   ],
   "source": [
    "data_n=data.values\n",
    "# uni_linear.txt의 값들을 2차원 배열의 형태로 data_n에 저장(값들만 따로 array로 확인할 수 있다.)\n",
    "m=data_n[:,0].size\n",
    "# 열의 인덱스가 0인 값(1번째 열)을 추출해 그 원소들의 갯수를 m에 저장(여기서는 m = 97)\n",
    "X=np.append(np.ones((m,1)),data_n[:,0].reshape(m,1),axis=1)\n",
    "# 우선 [m x 1] 크기의 1로 가득찬 배열과, data_n의 열의 인덱스가 0인 값들을 가져와 [m x 1] 크기의 배열로 만들어 합친 후 X에 저장.\n",
    "# axis는 추가되는 방향을 지정한다. 그 결과 X에는 [m x 2] 크기의 배열이 저장된다.\n",
    "y=data_n[:,1].reshape(m,1)\n",
    "# data_n의 열의 인덱스가 1인 값들을 가져와 [m x 1] 크기의 배열로 만들어 y에 저장\n",
    "theta=np.zeros((2,1))\n",
    "# [2 x 1] 크기의 0으로 가득찬 2차원 배열을 theta에 저장\n",
    "            \n",
    "computeCost(X, y, theta)\n",
    "# computeCost 호출"
   ]
  },
  {
   "cell_type": "code",
   "execution_count": 43,
   "metadata": {},
   "outputs": [],
   "source": [
    "def gradientDescent(X, y, theta, alpha, num_iters):\n",
    "# gradientDescent라는 함수를 정의한다.(매개변수로 X, y, theta, alpha, num_iters를 받음)\n",
    "    m=len(y)\n",
    "#   y의 길이를 계산하여 m에 저장한다.(혹은 요소의 개수)\n",
    "    J_history=[]\n",
    "#   J_history라는 빈 리스트를 만든다.\n",
    "    \n",
    "    for i in range(num_iters):\n",
    "#   num_iters만큼 반복\n",
    "        predictions = X.dot(theta)\n",
    "#       매개변수로 받은 X와 theta간의 내적의 결과를 predictions에 저장.\n",
    "        error = np.dot(X.transpose(), (predictions - y))\n",
    "#       X를 transpose한 것과 (예측한 값 - 실제 값)과의 내적의 결과를 error에 저장\n",
    "#       이 결과 gradient descent공식에서 시그마부터 끝까지의 결과가 만들어진다.(그림으로 그려보면 이해하기 쉽다.)\n",
    "        descent=alpha * 1/m * error\n",
    "#       alpha * 1/m * error의 결과를 descent에 저장\n",
    "        theta-=descent\n",
    "#       theta를 theta-descent로 업데이트 한다.\n",
    "        J_history.append(computeCost(X, y, theta))\n",
    "#       매 반복마다 computeCost함수의 결과(costfunction의 값)를 J_histort에 붙인다.\n",
    "        \n",
    "    return theta, J_history\n",
    "#   theta값과, J_history의 값을 반환한다."
   ]
  },
  {
   "cell_type": "code",
   "execution_count": 50,
   "metadata": {},
   "outputs": [
    {
     "name": "stdout",
     "output_type": "stream",
     "text": [
      "h(x) =-3.63 + 1.17x1\n"
     ]
    }
   ],
   "source": [
    "theta, J_history = gradientDescent(X, y, theta, 0.01, 1500)\n",
    "# gradientDescent함수에 X, y, theta, 0.01, 1500의 값을 넘겨주어 그 결과 반환되는 값들을 theta와 J_history에 저장한다.\n",
    "print(\"h(x) =\"+str(round(theta[0,0],2))+\" + \"+str(round(theta[1,0],2))+\"x1\")\n",
    "# theta의 값이 gradientDescent내에서 1500반복을 통해 변경되었는데 [2 x 1]의 배열에 첫번째 행의 첫번째 열값을 가져와 소숫점 2자리까지 출력하고\n",
    "# 또한 [2 x 1]의 배열에 두번째 행의 2번째 열값을 가져와 소숫점 2자리까지 출력한다."
   ]
  },
  {
   "cell_type": "code",
   "execution_count": 15,
   "metadata": {},
   "outputs": [],
   "source": [
    "from mpl_toolkits.mplot3d import Axes3D\n",
    "# matplotlib의 2D 그래프에 3D 오브젝트를 그리도록 해주는 라이브러리이다."
   ]
  },
  {
   "cell_type": "code",
   "execution_count": 16,
   "metadata": {},
   "outputs": [],
   "source": [
    "theta0_vals=np.linspace(-10,10,100)\n",
    "# -10에서 10까지 100개의 일정한 간격으로 요소를 가진 1차원 배열을 theta0_vals에 저장.\n",
    "theta1_vals=np.linspace(-1,4,100)\n",
    "# -1부터 4까지 100개의 일정한 간격으로 요소를 가진 1차원 배열을 theta1_vals에 저장.\n",
    "J_vals=np.zeros((len(theta0_vals), len(theta1_vals)))\n",
    "# [100 x 100] 크기의 0으로 가득찬 2차원 배열을 J_vals에 저장(len(theta0_vals) : theta0_vals 배열의 요소의 개수 -> 100).\n",
    "for i in range(len(theta0_vals)):\n",
    "# 100번 반복(0 ~ 99)\n",
    "    for j in range(len(theta1_vals)):\n",
    "#   100번 반복(0 ~ 99)\n",
    "        t=np.array([theta0_vals[i], theta1_vals[j]])\n",
    "#       theta0_vals[i]와 theta1_vals[j]의 원소들을 차례대로 갖는 크기 2의 벡터를 t에 저장\n",
    "#       이 벡터는 상황에 따라 column vector가 될수도, row vector가 될 수도 있다.\n",
    "        J_vals[i, j]=computeCost(X,y,t)\n",
    "#       computeCost함수에 X, y, t를 넘겨주고 받은 결과들을 차례대로 J_vals[i, j]에 저장한다."
   ]
  },
  {
   "cell_type": "code",
   "execution_count": 101,
   "metadata": {},
   "outputs": [
    {
     "data": {
      "image/png": "[encoded data removed]",
      "text/plain": [
       "<Figure size 432x288 with 2 Axes>"
      ]
     },
     "metadata": {
      "needs_background": "light"
     },
     "output_type": "display_data"
    }
   ],
   "source": [
    "fig = plt.figure()\n",
    "# figure는 그림을 그리는 캔버스, 하나의 figure에는 여러개의 plot이 들어갈 수 있다.\n",
    "# figure()함수를 불러 fig에 저장한다.\n",
    "ax = fig.add_subplot(111, projection='3d')\n",
    "# subplot 다음의 괄호는 그래프의 위치를 의미하며, 화면을 행렬처럼 구성하겠다는 의미이다.\n",
    "# 111 = 1 x 1 행렬에 첫번째위치를 의미하며, projection='3d'는 객체가 그래프에 투영될 방법을 정하는 것이다.\n",
    "surf=ax.plot_surface(theta0_vals, theta1_vals, J_vals, cmap=\"coolwarm\")\n",
    "# x축은 theta0_vals, y축은 theta1_vals, z축은 J_vals, cmap='coolwarm'은 3차원 surface의 컬러맵을 의미한다.\n",
    "fig.colorbar(surf, shrink=0.5, aspect=5)\n",
    "# surf에 대한 colorbar를 그리는데 속성을 준다.\n",
    "ax.set_xlabel(\"$\\Theta_0$\")\n",
    "# x축의 이름을 theta0로 한다.\n",
    "ax.set_ylabel(\"$\\Theta_1$\")\n",
    "# x축의 이름을 theta1로 한다.\n",
    "ax.set_zlabel(\"$J(\\Theta_0)$\")\n",
    "# x축의 이름을 J(theta0)로 한다.\n",
    "\n",
    "ax.view_init(30, 120)\n",
    "# 보는 각도를 정한다."
   ]
  },
  {
   "cell_type": "code",
   "execution_count": 107,
   "metadata": {},
   "outputs": [
    {
     "data": {
      "text/plain": [
       "Text(0.5, 1.0, 'Cost function using Gradient Descent')"
      ]
     },
     "execution_count": 107,
     "metadata": {},
     "output_type": "execute_result"
    },
    {
     "data": {
      "image/png": "[encoded data removed]",
      "text/plain": [
       "<Figure size 432x288 with 1 Axes>"
      ]
     },
     "metadata": {
      "needs_background": "light"
     },
     "output_type": "display_data"
    }
   ],
   "source": [
    "plt.plot(J_history)\n",
    "# J_history(1500번 반복하여 나온 costfunction의 값)에 있는 값들을 그린다.\n",
    "plt.xlabel(\"Iteration\")\n",
    "# x축의 이름을 지정한다.\n",
    "plt.ylabel(\"$J($Theta)$\")\n",
    "# y축의 이름을 지정한다.\n",
    "plt.title(\"Cost function using Gradient Descent\")\n",
    "# 제목을 지정한다."
   ]
  },
  {
   "cell_type": "code",
   "execution_count": 110,
   "metadata": {},
   "outputs": [
    {
     "data": {
      "text/plain": [
       "Text(0.5, 1.0, 'Profit Prediction')"
      ]
     },
     "execution_count": 110,
     "metadata": {},
     "output_type": "execute_result"
    },
    {
     "data": {
      "image/png": "[encoded data removed]",
      "text/plain": [
       "<Figure size 432x288 with 1 Axes>"
      ]
     },
     "metadata": {
      "needs_background": "light"
     },
     "output_type": "display_data"
    }
   ],
   "source": [
    "plt.scatter(data[0], data[1])\n",
    "# data[0]과 data[1]의 값들을 산점도로 표현한다.(각각 97개의 데이터가 있다)\n",
    "x_value=[x for x in range(25)]\n",
    "# 0부터 24까지의 값들을 리스트로 만들어 x_value에 저장한다.\n",
    "y_value=[y*theta[1]+theta[0] for y in x_value]\n",
    "# 0부터 24까지 차례대로 gradient descent를 통해 나온 theta_1과 곱한후 theta_0를 더해 리스트의 형태로 y_value에 저장한다.\n",
    "# h(x) = theta_0 + theta_1x를 계산한 것이다.\n",
    "plt.plot(x_value, y_value, color=\"r\")\n",
    "# x의 값은 x_value, y의 값은 y_value로 지정하여 라인을 그린다.(색깔은 red)\n",
    "plt.xticks(np.arange(5, 30, step=5))\n",
    "plt.yticks(np.arange(-5, 30, step=5))\n",
    "plt.xlabel(\"Population of City (10,000s)\")\n",
    "plt.ylabel(\"Profit ($10,000)\")\n",
    "plt.title(\"Profit Prediction\")"
   ]
  },
  {
   "cell_type": "code",
   "execution_count": 117,
   "metadata": {},
   "outputs": [],
   "source": [
    "def predict(x, theta):\n",
    "# predict라는 함수를 정의한다.(매개변수로 x와 theta를 받음)\n",
    "    predictions=np.dot(theta.transpose(), x)\n",
    "#   theta.transpose와 x의 내적의 결과를 predictions에 저장한다.\n",
    "#   theta의 transpose를 하는 이유는 내적을 하기위해 inner dimension을 맞추기 위함이다.\n",
    "#   predict1를 예로 들면, [1 x 2]과 [2, ]로 되기 때문에 내적을 할 수 있다.\n",
    "#   그 결과 크기 1의 벡터가 생성된다.\n",
    "    return predictions[0]\n",
    "#   predictions의 [0]의 요소를 반환한다."
   ]
  },
  {
   "cell_type": "code",
   "execution_count": 115,
   "metadata": {},
   "outputs": [
    {
     "name": "stdout",
     "output_type": "stream",
     "text": [
      "For population = 35,000, we predict a profit of $4520.0\n"
     ]
    }
   ],
   "source": [
    "predict1=predict(np.array([1,3.5]),theta)*10000\n",
    "# 크기 2인 벡터와 [2 x 1]크기의 theta를 predict함수에 넣어 나온결과에 100000를 곱해 predict1에 저장한다.\n",
    "print(\"For population = 35,000, we predict a profit of $\"+str(round(predict1,0)))\n",
    "# predict2의 결과에 0번째 자리까지 표현하기 위해 소숫점 1번째자리에서 반올림을 한다."
   ]
  },
  {
   "cell_type": "code",
   "execution_count": 53,
   "metadata": {},
   "outputs": [
    {
     "name": "stdout",
     "output_type": "stream",
     "text": [
      "For population = 70,000, we predict a profit of $45342.0\n"
     ]
    }
   ],
   "source": [
    "predict2=predict(np.array([1,7]),theta)*10000\n",
    "# 크기 2인 벡터와 [2 x 1]크기의 theta를 predict함수에 넣어 나온결과에 100000를 곱해 predict2에 저장한다.\n",
    "print(\"For population = 70,000, we predict a profit of $\"+str(round(predict2,0)))\n",
    "# predict2의 결과에 0번째 자리까지 표현하기 위해 소숫점 1번째자리에서 반올림을 한다."
   ]
  },
  {
   "cell_type": "code",
   "execution_count": 55,
   "metadata": {},
   "outputs": [],
   "source": [
    "data2=pd.read_csv(\"Multi_linear.txt\", header=None)"
   ]
  },
  {
   "cell_type": "code",
   "execution_count": 56,
   "metadata": {},
   "outputs": [
    {
     "data": {
      "text/html": [
       "<div>\n",
       "<style scoped>\n",
       "    .dataframe tbody tr th:only-of-type {\n",
       "        vertical-align: middle;\n",
       "    }\n",
       "\n",
       "    .dataframe tbody tr th {\n",
       "        vertical-align: top;\n",
       "    }\n",
       "\n",
       "    .dataframe thead th {\n",
       "        text-align: right;\n",
       "    }\n",
       "</style>\n",
       "<table border=\"1\" class=\"dataframe\">\n",
       "  <thead>\n",
       "    <tr style=\"text-align: right;\">\n",
       "      <th></th>\n",
       "      <th>0</th>\n",
       "      <th>1</th>\n",
       "      <th>2</th>\n",
       "    </tr>\n",
       "  </thead>\n",
       "  <tbody>\n",
       "    <tr>\n",
       "      <th>0</th>\n",
       "      <td>2104</td>\n",
       "      <td>3</td>\n",
       "      <td>399900</td>\n",
       "    </tr>\n",
       "    <tr>\n",
       "      <th>1</th>\n",
       "      <td>1600</td>\n",
       "      <td>3</td>\n",
       "      <td>329900</td>\n",
       "    </tr>\n",
       "    <tr>\n",
       "      <th>2</th>\n",
       "      <td>2400</td>\n",
       "      <td>3</td>\n",
       "      <td>369000</td>\n",
       "    </tr>\n",
       "    <tr>\n",
       "      <th>3</th>\n",
       "      <td>1416</td>\n",
       "      <td>2</td>\n",
       "      <td>232000</td>\n",
       "    </tr>\n",
       "    <tr>\n",
       "      <th>4</th>\n",
       "      <td>3000</td>\n",
       "      <td>4</td>\n",
       "      <td>539900</td>\n",
       "    </tr>\n",
       "  </tbody>\n",
       "</table>\n",
       "</div>"
      ],
      "text/plain": [
       "      0  1       2\n",
       "0  2104  3  399900\n",
       "1  1600  3  329900\n",
       "2  2400  3  369000\n",
       "3  1416  2  232000\n",
       "4  3000  4  539900"
      ]
     },
     "execution_count": 56,
     "metadata": {},
     "output_type": "execute_result"
    }
   ],
   "source": [
    "data2.head()"
   ]
  },
  {
   "cell_type": "code",
   "execution_count": 57,
   "metadata": {},
   "outputs": [
    {
     "data": {
      "text/html": [
       "<div>\n",
       "<style scoped>\n",
       "    .dataframe tbody tr th:only-of-type {\n",
       "        vertical-align: middle;\n",
       "    }\n",
       "\n",
       "    .dataframe tbody tr th {\n",
       "        vertical-align: top;\n",
       "    }\n",
       "\n",
       "    .dataframe thead th {\n",
       "        text-align: right;\n",
       "    }\n",
       "</style>\n",
       "<table border=\"1\" class=\"dataframe\">\n",
       "  <thead>\n",
       "    <tr style=\"text-align: right;\">\n",
       "      <th></th>\n",
       "      <th>0</th>\n",
       "      <th>1</th>\n",
       "      <th>2</th>\n",
       "    </tr>\n",
       "  </thead>\n",
       "  <tbody>\n",
       "    <tr>\n",
       "      <th>count</th>\n",
       "      <td>47.000000</td>\n",
       "      <td>47.000000</td>\n",
       "      <td>47.000000</td>\n",
       "    </tr>\n",
       "    <tr>\n",
       "      <th>mean</th>\n",
       "      <td>2000.680851</td>\n",
       "      <td>3.170213</td>\n",
       "      <td>340412.659574</td>\n",
       "    </tr>\n",
       "    <tr>\n",
       "      <th>std</th>\n",
       "      <td>794.702354</td>\n",
       "      <td>0.760982</td>\n",
       "      <td>125039.899586</td>\n",
       "    </tr>\n",
       "    <tr>\n",
       "      <th>min</th>\n",
       "      <td>852.000000</td>\n",
       "      <td>1.000000</td>\n",
       "      <td>169900.000000</td>\n",
       "    </tr>\n",
       "    <tr>\n",
       "      <th>25%</th>\n",
       "      <td>1432.000000</td>\n",
       "      <td>3.000000</td>\n",
       "      <td>249900.000000</td>\n",
       "    </tr>\n",
       "    <tr>\n",
       "      <th>50%</th>\n",
       "      <td>1888.000000</td>\n",
       "      <td>3.000000</td>\n",
       "      <td>299900.000000</td>\n",
       "    </tr>\n",
       "    <tr>\n",
       "      <th>75%</th>\n",
       "      <td>2269.000000</td>\n",
       "      <td>4.000000</td>\n",
       "      <td>384450.000000</td>\n",
       "    </tr>\n",
       "    <tr>\n",
       "      <th>max</th>\n",
       "      <td>4478.000000</td>\n",
       "      <td>5.000000</td>\n",
       "      <td>699900.000000</td>\n",
       "    </tr>\n",
       "  </tbody>\n",
       "</table>\n",
       "</div>"
      ],
      "text/plain": [
       "                 0          1              2\n",
       "count    47.000000  47.000000      47.000000\n",
       "mean   2000.680851   3.170213  340412.659574\n",
       "std     794.702354   0.760982  125039.899586\n",
       "min     852.000000   1.000000  169900.000000\n",
       "25%    1432.000000   3.000000  249900.000000\n",
       "50%    1888.000000   3.000000  299900.000000\n",
       "75%    2269.000000   4.000000  384450.000000\n",
       "max    4478.000000   5.000000  699900.000000"
      ]
     },
     "execution_count": 57,
     "metadata": {},
     "output_type": "execute_result"
    }
   ],
   "source": [
    "data2.describe()"
   ]
  },
  {
   "cell_type": "code",
   "execution_count": 125,
   "metadata": {
    "scrolled": true
   },
   "outputs": [
    {
     "data": {
      "image/png": "[encoded data removed]",
      "text/plain": [
       "<Figure size 864x288 with 2 Axes>"
      ]
     },
     "metadata": {
      "needs_background": "light"
     },
     "output_type": "display_data"
    }
   ],
   "source": [
    "fig, axes = plt.subplots(figsize=(12,4),nrows=1,ncols=2)\n",
    "# 1행 2열으로 그림을 그리고, size는 (12, 4)의 크기로 한다.\n",
    "# fig는 전체 subplot을 의미한다.(전체사이즈)\n",
    "# ax는 전체 중 낱낱개를 의미한다.\n",
    "axes[0].scatter(data2[0],data2[2],color=\"b\")\n",
    "# subplot중 1번째에 data2의 1번째 열과 3번째 열에 대한 산점도를 그린다.\n",
    "axes[0].set_xlabel(\"Size (Square Feet)\")\n",
    "axes[0].set_ylabel(\"Prices\")\n",
    "axes[0].set_title(\"House prices against size of house\")\n",
    "axes[1].scatter(data2[1],data2[2],color=\"r\")\n",
    "# subplot중 2번째에 data2의 2번째 열과 3번째 열에 대한 산점도를 그린다.\n",
    "axes[1].set_xlabel(\"Number of bedroom\")\n",
    "axes[1].set_ylabel(\"Prices\")\n",
    "axes[1].set_xticks(np.arange(1,6,step=1))\n",
    "axes[1].set_title(\"House prices against size of house\")\n",
    "\n",
    "plt.tight_layout()\n",
    "# 적당히 공백을 잘 배치하여 그림을 나타낸다."
   ]
  },
  {
   "cell_type": "code",
   "execution_count": 82,
   "metadata": {},
   "outputs": [],
   "source": [
    "def featureNormalization(X):\n",
    "# featureNormalization의 함수를 정의한다.(매개변수로는 X를 받음)\n",
    "    mean=np.mean(X,axis=0)\n",
    "#   X의 값들 중 열별로 평균을 구해 mean에 저장한다.\n",
    "#   만약 X가 1차원 배열이라면 배열에 있는 모든 값들의 평균을 구한다.\n",
    "    std=np.std(X,axis=0)\n",
    "#   X의 값들 중 열을 따라 계산된 표준 편차를 std에 저장한다.\n",
    "#   만약 X가 1차원 배열이라면 배열에 있는 모든 값들의 표준 편차를 구한다.\n",
    "    X_norm = (X - mean)/std\n",
    "#   (X - mean)/std의 결과를 X_norm에 저장한다.    \n",
    "    return X_norm , mean , std\n",
    "#   X_norm, mean, std를 반환한다."
   ]
  },
  {
   "cell_type": "code",
   "execution_count": 173,
   "metadata": {},
   "outputs": [],
   "source": [
    "data_n2=data2.values\n",
    "# data2의 데이터들만 가져와 2차원 배열의 형태(행렬)로 data_n2에 저장한다.[47 x 3]\n",
    "m2=len(data_n2[:,-1])\n",
    "# data_n2의 마지막 열(뒤에서 첫번째 열)의 길이(원소의 개수)를 m2에 저장한다.(m2 = 47)\n",
    "X2=data_n2[:,0:2].reshape(m2,2)\n",
    "# data_n2의 첫번째 열(0)과 두번째 열(1)을 가져와 [m2 x 2]의 형태로 X2에 저장한다.\n",
    "X2, mean_X2, std_X2 = featureNormalization(X2)\n",
    "# featureNormalization에 X2를 넣은 후 나온 결과들을 각각 X2, mean_X2, std_X2에 저장한다.\n",
    "X2 = np.append(np.ones((m2,1)),X2,axis=1)\n",
    "# X2는 [m x 2] 크기의 행렬이 되며 x1의 값들은 feature scaling이 된 값들이 되게 된다.\n",
    "# 그 결과 X2는 [m2 x 3]크기의 행렬이 된다.\n",
    "y2=data_n2[:,-1].reshape(m2,1)\n",
    "# data_n2의 마지막 열(3)을 가져와 [m2 x 1]의 형태로 y2에 저장한다.\n",
    "theta2=np.zeros((3,1))\n",
    "# [3 x 1]크기의 0으로 가득찬 행렬을 theta2에 저장한다."
   ]
  },
  {
   "cell_type": "code",
   "execution_count": 148,
   "metadata": {},
   "outputs": [
    {
     "data": {
      "text/plain": [
       "2043280050.602829"
      ]
     },
     "execution_count": 148,
     "metadata": {},
     "output_type": "execute_result"
    }
   ],
   "source": [
    "computeCost(X2,y2,theta2)\n",
    "# [m2 x 3]크기의 X2와 [3 x 1]크기의 theta와 [m2 x 1]크기의 y2를 넣어 \n",
    "# costfunction의 값을 계산한다."
   ]
  },
  {
   "cell_type": "code",
   "execution_count": 181,
   "metadata": {},
   "outputs": [
    {
     "name": "stdout",
     "output_type": "stream",
     "text": [
      "h(x) =340412.66 + 109447.8x1 + -6578.35x2\n"
     ]
    }
   ],
   "source": [
    "theta2, J_history2 = gradientDescent(X2,y2,theta2,0.1,400)\n",
    "# gradient descent의 결과값들을 theta2와 J_history2에 저장한다.\n",
    "print(\"h(x) =\"+str(round(theta2[0,0],2))+\" + \"+str(round(theta2[1,0],2))+\"x1 + \"+str(round(theta2[2,0],2))+\"x2\")"
   ]
  },
  {
   "cell_type": "code",
   "execution_count": 182,
   "metadata": {},
   "outputs": [
    {
     "data": {
      "text/plain": [
       "Text(0.5, 1.0, 'Cost function using Gradient Descent')"
      ]
     },
     "execution_count": 182,
     "metadata": {},
     "output_type": "execute_result"
    },
    {
     "data": {
      "image/png": "[encoded data removed]",
      "text/plain": [
       "<Figure size 432x288 with 1 Axes>"
      ]
     },
     "metadata": {
      "needs_background": "light"
     },
     "output_type": "display_data"
    }
   ],
   "source": [
    "plt.plot(J_history2)\n",
    "# J_history의 결과값들을 라인으로 그린다.\n",
    "plt.xlabel(\"Iteration\")\n",
    "plt.ylabel(\"$J(\\Theta)$\")\n",
    "plt.title(\"Cost function using Gradient Descent\")"
   ]
  },
  {
   "cell_type": "code",
   "execution_count": 183,
   "metadata": {},
   "outputs": [
    {
     "name": "stdout",
     "output_type": "stream",
     "text": [
      "For size of house = 1650, Number of bedroom = 3, we predict a house value of $456439.0\n"
     ]
    }
   ],
   "source": [
    "x_sample = featureNormalization(np.array([1650,3]))[0]\n",
    "# featureNormalization의 결과 3개가 반환이 되는데 그때 0번째 요소(X_norm)를 x_sample에 저장한다.\n",
    "# x_sample은 feature scaling한 결과를 가지고 있다.\n",
    "x_sample=np.append(np.ones(1),x_sample)\n",
    "# 위에서 계산한 x_sample 앞에 1을 붙인다. 그 결과 x_sample은 크기가 3인 1차원 배열(벡터)가 된다.\n",
    "predict3=predict(x_sample,theta2)\n",
    "# 400번을 통해 나온 theta2와 x_sample의 내적의 결과로 예측한 결과값을 predict3에 저장한다.\n",
    "print(\"For size of house = 1650, Number of bedroom = 3, we predict a house value of $\"+str(round(predict3,0)))"
   ]
  }
 ],
 "metadata": {
  "kernelspec": {
   "display_name": "Python 3",
   "language": "python",
   "name": "python3"
  },
  "language_info": {
   "codemirror_mode": {
    "name": "ipython",
    "version": 3
   },
   "file_extension": ".py",
   "mimetype": "text/x-python",
   "name": "python",
   "nbconvert_exporter": "python",
   "pygments_lexer": "ipython3",
   "version": "3.7.6"
  }
 },
 "nbformat": 4,
 "nbformat_minor": 4
}
