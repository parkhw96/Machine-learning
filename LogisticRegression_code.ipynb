{
 "cells": [
  {
   "cell_type": "code",
   "execution_count": 33,
   "metadata": {},
   "outputs": [],
   "source": [
    "import numpy as np\n",
    "import matplotlib.pyplot as plt\n",
    "import pandas as pd"
   ]
  },
  {
   "cell_type": "code",
   "execution_count": 34,
   "metadata": {},
   "outputs": [],
   "source": [
    "df=pd.read_csv(\"ex2data1.txt\",header=None)\n",
    "X=df.iloc[:,:-1].values\n",
    "# iloc[:,:-1]은 모든 행에 대하여 마지막열 전까지 열데이터만 출력하라는 것이다.\n",
    "# 그 추출한 열데이터들을 .values로 인해 배열로 X라는 변수에 저장한다.\n",
    "# X는 [100 x 2] 크기의 배열이 된다.\n",
    "y=df.iloc[:,-1].values\n",
    "# iloc[:,-1]은 모든 행에 대하여 마지막열 데이터만 출력하라는 것이다.\n",
    "# 그 추출한 열데이터을 .values로 인해 배열로 y라는 변수에 저장한다.\n",
    "# y는 100 크기의 벡터가 된다."
   ]
  },
  {
   "cell_type": "code",
   "execution_count": 35,
   "metadata": {},
   "outputs": [
    {
     "data": {
      "text/html": [
       "<div>\n",
       "<style scoped>\n",
       "    .dataframe tbody tr th:only-of-type {\n",
       "        vertical-align: middle;\n",
       "    }\n",
       "\n",
       "    .dataframe tbody tr th {\n",
       "        vertical-align: top;\n",
       "    }\n",
       "\n",
       "    .dataframe thead th {\n",
       "        text-align: right;\n",
       "    }\n",
       "</style>\n",
       "<table border=\"1\" class=\"dataframe\">\n",
       "  <thead>\n",
       "    <tr style=\"text-align: right;\">\n",
       "      <th></th>\n",
       "      <th>0</th>\n",
       "      <th>1</th>\n",
       "      <th>2</th>\n",
       "    </tr>\n",
       "  </thead>\n",
       "  <tbody>\n",
       "    <tr>\n",
       "      <th>0</th>\n",
       "      <td>34.623660</td>\n",
       "      <td>78.024693</td>\n",
       "      <td>0</td>\n",
       "    </tr>\n",
       "    <tr>\n",
       "      <th>1</th>\n",
       "      <td>30.286711</td>\n",
       "      <td>43.894998</td>\n",
       "      <td>0</td>\n",
       "    </tr>\n",
       "    <tr>\n",
       "      <th>2</th>\n",
       "      <td>35.847409</td>\n",
       "      <td>72.902198</td>\n",
       "      <td>0</td>\n",
       "    </tr>\n",
       "    <tr>\n",
       "      <th>3</th>\n",
       "      <td>60.182599</td>\n",
       "      <td>86.308552</td>\n",
       "      <td>1</td>\n",
       "    </tr>\n",
       "    <tr>\n",
       "      <th>4</th>\n",
       "      <td>79.032736</td>\n",
       "      <td>75.344376</td>\n",
       "      <td>1</td>\n",
       "    </tr>\n",
       "  </tbody>\n",
       "</table>\n",
       "</div>"
      ],
      "text/plain": [
       "           0          1  2\n",
       "0  34.623660  78.024693  0\n",
       "1  30.286711  43.894998  0\n",
       "2  35.847409  72.902198  0\n",
       "3  60.182599  86.308552  1\n",
       "4  79.032736  75.344376  1"
      ]
     },
     "execution_count": 35,
     "metadata": {},
     "output_type": "execute_result"
    }
   ],
   "source": [
    "df.head()"
   ]
  },
  {
   "cell_type": "code",
   "execution_count": 36,
   "metadata": {},
   "outputs": [
    {
     "data": {
      "text/html": [
       "<div>\n",
       "<style scoped>\n",
       "    .dataframe tbody tr th:only-of-type {\n",
       "        vertical-align: middle;\n",
       "    }\n",
       "\n",
       "    .dataframe tbody tr th {\n",
       "        vertical-align: top;\n",
       "    }\n",
       "\n",
       "    .dataframe thead th {\n",
       "        text-align: right;\n",
       "    }\n",
       "</style>\n",
       "<table border=\"1\" class=\"dataframe\">\n",
       "  <thead>\n",
       "    <tr style=\"text-align: right;\">\n",
       "      <th></th>\n",
       "      <th>0</th>\n",
       "      <th>1</th>\n",
       "      <th>2</th>\n",
       "    </tr>\n",
       "  </thead>\n",
       "  <tbody>\n",
       "    <tr>\n",
       "      <th>count</th>\n",
       "      <td>100.000000</td>\n",
       "      <td>100.000000</td>\n",
       "      <td>100.000000</td>\n",
       "    </tr>\n",
       "    <tr>\n",
       "      <th>mean</th>\n",
       "      <td>65.644274</td>\n",
       "      <td>66.221998</td>\n",
       "      <td>0.600000</td>\n",
       "    </tr>\n",
       "    <tr>\n",
       "      <th>std</th>\n",
       "      <td>19.458222</td>\n",
       "      <td>18.582783</td>\n",
       "      <td>0.492366</td>\n",
       "    </tr>\n",
       "    <tr>\n",
       "      <th>min</th>\n",
       "      <td>30.058822</td>\n",
       "      <td>30.603263</td>\n",
       "      <td>0.000000</td>\n",
       "    </tr>\n",
       "    <tr>\n",
       "      <th>25%</th>\n",
       "      <td>50.919511</td>\n",
       "      <td>48.179205</td>\n",
       "      <td>0.000000</td>\n",
       "    </tr>\n",
       "    <tr>\n",
       "      <th>50%</th>\n",
       "      <td>67.032988</td>\n",
       "      <td>67.682381</td>\n",
       "      <td>1.000000</td>\n",
       "    </tr>\n",
       "    <tr>\n",
       "      <th>75%</th>\n",
       "      <td>80.212529</td>\n",
       "      <td>79.360605</td>\n",
       "      <td>1.000000</td>\n",
       "    </tr>\n",
       "    <tr>\n",
       "      <th>max</th>\n",
       "      <td>99.827858</td>\n",
       "      <td>98.869436</td>\n",
       "      <td>1.000000</td>\n",
       "    </tr>\n",
       "  </tbody>\n",
       "</table>\n",
       "</div>"
      ],
      "text/plain": [
       "                0           1           2\n",
       "count  100.000000  100.000000  100.000000\n",
       "mean    65.644274   66.221998    0.600000\n",
       "std     19.458222   18.582783    0.492366\n",
       "min     30.058822   30.603263    0.000000\n",
       "25%     50.919511   48.179205    0.000000\n",
       "50%     67.032988   67.682381    1.000000\n",
       "75%     80.212529   79.360605    1.000000\n",
       "max     99.827858   98.869436    1.000000"
      ]
     },
     "execution_count": 36,
     "metadata": {},
     "output_type": "execute_result"
    }
   ],
   "source": [
    "df.describe()"
   ]
  },
  {
   "cell_type": "code",
   "execution_count": 37,
   "metadata": {
    "scrolled": true
   },
   "outputs": [
    {
     "data": {
      "text/plain": [
       "<matplotlib.legend.Legend at 0x22f03843f88>"
      ]
     },
     "execution_count": 37,
     "metadata": {},
     "output_type": "execute_result"
    },
    {
     "data": {
      "image/png": "[encoded data removed]",
      "text/plain": [
       "<Figure size 432x288 with 1 Axes>"
      ]
     },
     "metadata": {
      "needs_background": "light"
     },
     "output_type": "display_data"
    }
   ],
   "source": [
    "pos , neg = (y==1).reshape(100,1) , (y==0).reshape(100,1)\n",
    "# y안에 들어있는 값들 중에 y==1인 것들을 True, y==0 것들을 False로\n",
    "# [100 x 1] 크기의 배열에 넣은 뒤 pos라는 변수에 지정한다.\n",
    "# y안에 들어있는 값들 중에 y==0인 것들을 True, y==1인 것들을 False로\n",
    "# [100 x 1] 크기의 배열에 넣은 뒤 neg라는 변수에 지정한다.\n",
    "plt.scatter(X[pos[:,0],0],X[pos[:,0],1],c=\"r\",marker=\"+\")\n",
    "# [100 x 2] 크기의 X 배열과 100 크기의 pos의 벡터와 매치하여 그 중 값이 True이고 0번째 열인 것들을 x축으로 삼고\n",
    "# [100 x 2] 크기의 X 배열과 100 크기의 pos의 벡터와 매치하여 그 중 값이 True이고 1번째 열인 것들을 x축으로 삼아\n",
    "# 산점도를 그리는데 색깔은 빨간색, 모양은 +로 한다.\n",
    "# 즉, y==1인 값들을 + 모양으로 표시한다.\n",
    "plt.scatter(X[neg[:,0],0],X[neg[:,0],1],marker=\"o\",s=10)\n",
    "# [100 x 2] 크기의 X 배열과 100 크기의 neg의 벡터와 매치하여 그 중 값이 True이고 0번째 열인 것들을 x축으로 삼고\n",
    "# [100 x 2] 크기의 X 배열과 100 크기의 neg의 벡터와 매치하여 그 중 값이 True이고 1번째 열인 것들을 x축으로 삼아\n",
    "# 산점도를 그리는데 모양은 o, 크기는 10으로 한다.\n",
    "# 즉, y==0인 값들을 o 모양으로 표시한다.\n",
    "plt.xlabel(\"Exam 1 score\")\n",
    "plt.ylabel(\"Exam 2 score\")\n",
    "plt.legend([\"Admitted\",\"Not admitted\"],loc=0)\n",
    "# 차례대로 산점도를 그린것을  +는 Adimitted, o는 Not adimitted라는 범례를 만든다.\n",
    "# 위치는 best(0)"
   ]
  },
  {
   "cell_type": "code",
   "execution_count": 38,
   "metadata": {},
   "outputs": [],
   "source": [
    "def sigmoid(z):\n",
    "    return 1 / (1 + np.exp(-z))\n",
    "# sigmoid 함수를 정의한다. np.exp는 밑이 e인 지수함수로 변환해 준다."
   ]
  },
  {
   "cell_type": "code",
   "execution_count": 39,
   "metadata": {},
   "outputs": [
    {
     "data": {
      "text/plain": [
       "0.5"
      ]
     },
     "execution_count": 39,
     "metadata": {},
     "output_type": "execute_result"
    }
   ],
   "source": [
    "sigmoid(0)"
   ]
  },
  {
   "cell_type": "code",
   "execution_count": 40,
   "metadata": {},
   "outputs": [],
   "source": [
    "def costFunction(theta, X, y):\n",
    "    m=len(y)\n",
    "    \n",
    "    predictions = sigmoid(np.dot(X, theta))\n",
    "#   [100 x 3]과 [3 x 1]를 내적의 결과에 sigmoid 함수를 적용한다.\n",
    "#   그 결과값이 Logistic Regression에서의 predictions이다.\n",
    "    error = (-y * np.log(predictions)) - ((1-y)*np.log(1-predictions))\n",
    "#   Logistic Regression에서의 공식을 따른다.    \n",
    "    cost = 1/m * sum(error)\n",
    "#   Logistic Regression에서의 공식을 따른다.    \n",
    "    grad = 1/m * np.dot(X.transpose(),(predictions - y))\n",
    "#   X를 transpose한 것과 (예측한 값 - 실제 값)과의 내적의 결과를 error에 저장\n",
    "#   이 결과 gradient descent공식에서 시그마부터 끝까지의 결과가 만들어진다.(그림으로 그려보면 이해하기 쉽다.)\n",
    "#   np.dot(X.transpose(), (predictions - y))의 결과는 [3 x 1]의 결과가 나온다.    \n",
    "    return cost[0] , grad\n",
    "# 9.65424447e-02의 결과는 소수점을 기준으로 왼쪽으로 2번 이동하면 된다.\n",
    "# 0.09654244469999999356 이러한 값과 같다."
   ]
  },
  {
   "cell_type": "code",
   "execution_count": 41,
   "metadata": {},
   "outputs": [],
   "source": [
    "def featureNormalization(X):\n",
    "    mean=np.mean(X,axis=0)\n",
    "#   X의 값들 중 열별로 평균을 구해 mean에 저장한다.\n",
    "#   만약 X가 1차원 배열이라면 배열에 있는 모든 값들의 평균을 구한다.\n",
    "    std=np.std(X,axis=0)\n",
    "#   X의 값들 중 열을 따라 계산된 표준 편차를 std에 저장한다.\n",
    "#   만약 X가 1차원 배열이라면 배열에 있는 모든 값들의 표준 편차를 구한다.\n",
    "    X_norm = (X - mean)/std\n",
    "#   (X - mean)/std의 결과를 X_norm에 저장한다.    \n",
    "    return X_norm , mean , std\n",
    "#   X_norm, mean, std를 반환한다."
   ]
  },
  {
   "cell_type": "code",
   "execution_count": 42,
   "metadata": {},
   "outputs": [
    {
     "name": "stdout",
     "output_type": "stream",
     "text": [
      "Cost of initial theta is [0.69314718]\n",
      "Gradient at initial theta (zeros): [[-0.1       ]\n",
      " [-0.28122914]\n",
      " [-0.25098615]]\n"
     ]
    }
   ],
   "source": [
    "m , n = X.shape[0], X.shape[1]\n",
    "# X.shape[0]의 결과 100이 m에, X.shape[1]의 결과 2가 n에 저장된다.\n",
    "X, X_mean, X_std = featureNormalization(X)\n",
    "# X는 featureNormalization을 한 결과들이 저장되어 있다. scaling이 되어있음.\n",
    "X= np.append(np.ones((m,1)),X,axis=1)\n",
    "# 원래의 [100 x 2] 크기의 X라는 행렬 앞에 [100 x 1] 크기의 1들을 붙인다.\n",
    "# 따라서 X는 [100 x 3] 크기의 행렬이 된다.\n",
    "y=y.reshape(m,1)\n",
    "# 100 크기의 벡터였던 y는 [100 x 1] 크기의 행렬로 된다.\n",
    "initial_theta = np.zeros((n+1,1))\n",
    "# inital_theta는 [3 x 1]크기의 0들로 가득찬 행렬이 된다.(초기의 theta 값)\n",
    "cost, grad= costFunction(initial_theta,X,y)\n",
    "print(\"Cost of initial theta is\",cost)\n",
    "print(\"Gradient at initial theta (zeros):\",grad)"
   ]
  },
  {
   "cell_type": "code",
   "execution_count": 43,
   "metadata": {},
   "outputs": [],
   "source": [
    "def gradientDescent(X,y,theta,alpha,num_iters): \n",
    "    m=len(y)\n",
    "    J_history =[]\n",
    "#   Cost Function의 결과들을 J_history에 저장한다.\n",
    "    for i in range(num_iters):\n",
    "        cost, grad = costFunction(theta,X,y)\n",
    "        theta = theta - (alpha * grad)\n",
    "#       costFunction을 적용해 나온 grad에 alpha를 곱하여 기존의 theta값에 빼므로써\n",
    "#       theta의 값을 업데이트 한다.(gradient descent 공식에 따라)\n",
    "        J_history.append(cost)\n",
    "    \n",
    "    return theta , J_history"
   ]
  },
  {
   "cell_type": "code",
   "execution_count": 44,
   "metadata": {},
   "outputs": [],
   "source": [
    "theta , J_history = gradientDescent(X,y,initial_theta,1,400)"
   ]
  },
  {
   "cell_type": "code",
   "execution_count": 45,
   "metadata": {},
   "outputs": [
    {
     "name": "stdout",
     "output_type": "stream",
     "text": [
      "Theta optimized by gradient descent: [[1.65947664]\n",
      " [3.8670477 ]\n",
      " [3.60347302]]\n",
      "The cost of the optimized theta: [0.20360044]\n"
     ]
    }
   ],
   "source": [
    "print(\"Theta optimized by gradient descent:\",theta)\n",
    "print(\"The cost of the optimized theta:\",J_history[-1])\n",
    "# J_history 마지막에 있는 값을 가져온다. 400번을 반복하고 난후 마지막 cost function의 값이다."
   ]
  },
  {
   "cell_type": "code",
   "execution_count": 46,
   "metadata": {},
   "outputs": [
    {
     "data": {
      "text/plain": [
       "Text(0.5, 1.0, 'Cost function using Gradient Descent')"
      ]
     },
     "execution_count": 46,
     "metadata": {},
     "output_type": "execute_result"
    },
    {
     "data": {
      "image/png": "[encoded data removed]",
      "text/plain": [
       "<Figure size 432x288 with 1 Axes>"
      ]
     },
     "metadata": {
      "needs_background": "light"
     },
     "output_type": "display_data"
    }
   ],
   "source": [
    "plt.plot(J_history)\n",
    "# J_history안에 있는 값(cost function의 값들)을 선 형태로 그림을 그린다.\n",
    "plt.xlabel(\"Iteration\")\n",
    "plt.ylabel(\"$J(\\Theta)$\")\n",
    "plt.title(\"Cost function using Gradient Descent\")"
   ]
  },
  {
   "cell_type": "code",
   "execution_count": 47,
   "metadata": {},
   "outputs": [
    {
     "data": {
      "text/plain": [
       "<matplotlib.legend.Legend at 0x22f038f1308>"
      ]
     },
     "execution_count": 47,
     "metadata": {},
     "output_type": "execute_result"
    },
    {
     "data": {
      "image/png": "[encoded data removed]",
      "text/plain": [
       "<Figure size 432x288 with 1 Axes>"
      ]
     },
     "metadata": {
      "needs_background": "light"
     },
     "output_type": "display_data"
    }
   ],
   "source": [
    "plt.scatter(X[pos[:,0],1],X[pos[:,0],2],c=\"r\",marker=\"+\",label=\"Admitted\")\n",
    "plt.scatter(X[neg[:,0],1],X[neg[:,0],2],c=\"b\",marker=\"x\",label=\"Not admitted\")\n",
    "x_value= np.array([np.min(X[:,1]),np.max(X[:,1])])\n",
    "y_value=-(theta[0] +theta[1]*x_value)/theta[2]\n",
    "plt.plot(x_value,y_value, \"g\")\n",
    "plt.xlabel(\"Exam 1 score\")\n",
    "plt.ylabel(\"Exam 2 score\")\n",
    "plt.legend(loc=0)"
   ]
  },
  {
   "cell_type": "code",
   "execution_count": 70,
   "metadata": {},
   "outputs": [],
   "source": [
    "def classifierPredict(theta,X):\n",
    "    predictions = X.dot(theta)\n",
    "\n",
    "    return predictions > 0\n",
    "#   predictions([100 x 1] 크기의 행렬)중 0이 넘는 값들을 True로 반환한다.\n",
    "#   나머지는 False로 반환한다.\n",
    "#   Logistic Regression에서의 hypothesis를 보면 1 / (1 + e^-(theta.transpose * x))이다.\n",
    "#   이 hypothesis에서는 theta.transpose * x 부분이 0보다 크면 1로 예측한다.\n",
    "#   따라서 여기서는 sigmoid 함수를 적용하지 않았다."
   ]
  },
  {
   "cell_type": "code",
   "execution_count": 83,
   "metadata": {},
   "outputs": [
    {
     "name": "stdout",
     "output_type": "stream",
     "text": [
      "For a student with scores 45 and 85, we predict an admission probability of 0.7677628875792492\n"
     ]
    }
   ],
   "source": [
    "x_test = np.array([45,85])\n",
    "# x_test는 45와 85를 가지고 있는 크기 2의 벡터이다.\n",
    "x_test = (x_test - X_mean)/X_std\n",
    "# 기존에 계산해 놓았던 X_mean과 X_xtd를 활용해 x_test의 값들을 scaling한다.\n",
    "x_test = np.append(np.ones(1),x_test)\n",
    "# x_test앞에 1을 덧붙여 크기 3의 벡터를 만든다.\n",
    "prob = sigmoid(x_test.dot(theta))\n",
    "# Rogistic Regression의 hypothesis에 새롭게 만든 데이터인 x_test와 400번 반복하여\n",
    "# 계산된 theta를 가지고 계산한다. 그 결과 0부터 1사이의 값이 나오게 된다.\n",
    "print(\"For a student with scores 45 and 85, we predict an admission probability of\",prob[0])"
   ]
  },
  {
   "cell_type": "code",
   "execution_count": 91,
   "metadata": {},
   "outputs": [
    {
     "name": "stdout",
     "output_type": "stream",
     "text": [
      "Train Accuracy: 89 %\n"
     ]
    }
   ],
   "source": [
    "p=classifierPredict(theta,X)\n",
    "print(\"Train Accuracy:\", sum(p==y)[0],\"%\")\n",
    "# [100 x 1] 크기의 행렬 p와 [100 x 1] 크기의 행렬 y를 비교하여 같은 값 중\n",
    "# 0번째 열을 다 더하여 출력한다.\n",
    "# 0 == True -> False, 1 == True -> True\n",
    "# 0 == False -> True, 0 == True -> False"
   ]
  }
 ],
 "metadata": {
  "kernelspec": {
   "display_name": "Python 3",
   "language": "python",
   "name": "python3"
  },
  "language_info": {
   "codemirror_mode": {
    "name": "ipython",
    "version": 3
   },
   "file_extension": ".py",
   "mimetype": "text/x-python",
   "name": "python",
   "nbconvert_exporter": "python",
   "pygments_lexer": "ipython3",
   "version": "3.7.6"
  }
 },
 "nbformat": 4,
 "nbformat_minor": 4
}
